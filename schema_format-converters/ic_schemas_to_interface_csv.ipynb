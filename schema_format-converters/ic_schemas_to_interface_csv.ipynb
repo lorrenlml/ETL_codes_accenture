{
 "cells": [
  {
   "cell_type": "markdown",
   "metadata": {},
   "source": [
    "# GENERATE A SCHEMA CSV FOR EACH INTERFACE"
   ]
  },
  {
   "cell_type": "code",
   "execution_count": 2,
   "metadata": {},
   "outputs": [],
   "source": [
    "import pandas as pd"
   ]
  },
  {
   "cell_type": "code",
   "execution_count": 4,
   "metadata": {},
   "outputs": [
    {
     "data": {
      "text/html": [
       "<div>\n",
       "<style scoped>\n",
       "    .dataframe tbody tr th:only-of-type {\n",
       "        vertical-align: middle;\n",
       "    }\n",
       "\n",
       "    .dataframe tbody tr th {\n",
       "        vertical-align: top;\n",
       "    }\n",
       "\n",
       "    .dataframe thead th {\n",
       "        text-align: right;\n",
       "    }\n",
       "</style>\n",
       "<table border=\"1\" class=\"dataframe\">\n",
       "  <thead>\n",
       "    <tr style=\"text-align: right;\">\n",
       "      <th></th>\n",
       "      <th>ic_short_name</th>\n",
       "      <th>ic_sp</th>\n",
       "      <th>ic_pt</th>\n",
       "      <th>field</th>\n",
       "      <th>length</th>\n",
       "    </tr>\n",
       "  </thead>\n",
       "  <tbody>\n",
       "    <tr>\n",
       "      <th>0</th>\n",
       "      <td>DZ2OA</td>\n",
       "      <td>20097.0</td>\n",
       "      <td>40097.0</td>\n",
       "      <td>DZ2OA_ORG</td>\n",
       "      <td>3.0</td>\n",
       "    </tr>\n",
       "    <tr>\n",
       "      <th>1</th>\n",
       "      <td>DZ2OA</td>\n",
       "      <td>20097.0</td>\n",
       "      <td>40097.0</td>\n",
       "      <td>DZ2OA_ACCT</td>\n",
       "      <td>19.0</td>\n",
       "    </tr>\n",
       "    <tr>\n",
       "      <th>2</th>\n",
       "      <td>DZ2OA</td>\n",
       "      <td>20097.0</td>\n",
       "      <td>40097.0</td>\n",
       "      <td>DZ2OA_EFF_DATE</td>\n",
       "      <td>8.0</td>\n",
       "    </tr>\n",
       "    <tr>\n",
       "      <th>3</th>\n",
       "      <td>DZ2OA</td>\n",
       "      <td>20097.0</td>\n",
       "      <td>40097.0</td>\n",
       "      <td>DZ2OA_TIME</td>\n",
       "      <td>8.0</td>\n",
       "    </tr>\n",
       "  </tbody>\n",
       "</table>\n",
       "</div>"
      ],
      "text/plain": [
       "  ic_short_name    ic_sp    ic_pt           field  length\n",
       "0         DZ2OA  20097.0  40097.0       DZ2OA_ORG     3.0\n",
       "1         DZ2OA  20097.0  40097.0      DZ2OA_ACCT    19.0\n",
       "2         DZ2OA  20097.0  40097.0  DZ2OA_EFF_DATE     8.0\n",
       "3         DZ2OA  20097.0  40097.0      DZ2OA_TIME     8.0"
      ]
     },
     "execution_count": 4,
     "metadata": {},
     "output_type": "execute_result"
    }
   ],
   "source": [
    "file = 'ic_field_len_interface.csv'\n",
    "# DROP COLUMN COMENTARIOS\n",
    "\n",
    "df_ic = pd.read_csv('../'+ file, delimiter=';')\n",
    "df_ic = df_ic.drop(['comentarios', 'repeticiones'], axis=1)\n",
    "df_ic.head(4)"
   ]
  },
  {
   "cell_type": "code",
   "execution_count": 5,
   "metadata": {},
   "outputs": [],
   "source": [
    "# LIST POSITIONAL INTERFACES\n",
    "interfaces_positional = list(df_ic['ic_short_name'].unique())"
   ]
  },
  {
   "cell_type": "code",
   "execution_count": 19,
   "metadata": {},
   "outputs": [],
   "source": [
    "# GENERATE A CSV FOR EACH INTERFACE\n",
    "for idx, interface in enumerate(interfaces_positional):\n",
    "    \n",
    "    # Filter by interface name\n",
    "    df_interface = df_ic[df_ic['ic_short_name'].str.contains('{}'.format(interfaces_positional[idx]))]\n",
    "    \n",
    "    # Extract interface numbers\n",
    "    i_sp = str(df_interface['ic_sp'].unique())[1:6]\n",
    "    i_pt = str(df_interface['ic_pt'].unique())[1:6]\n",
    "\n",
    "    # Drop column with name\n",
    "    df_interface = df_interface.drop(['ic_short_name', 'ic_sp', 'ic_pt'], axis=1)\n",
    "    \n",
    "    # Drop empty rows\n",
    "    df_interface = df_interface.dropna()\n",
    "    df_interface['length'] = df_interface['length'].astype(int)\n",
    "    \n",
    "    # Add \n",
    "    folder = 'interface-schema-field_length/'\n",
    "    df_interface.to_csv('../{folder}{i}_{sp}_{pt}_field_len.csv'.format(folder = folder, i = interfaces_positional[idx], sp = i_sp, pt = i_pt), \n",
    "            index=False, header=False)"
   ]
  },
  {
   "cell_type": "code",
   "execution_count": 54,
   "metadata": {},
   "outputs": [
    {
     "data": {
      "text/plain": [
       "array([10303.])"
      ]
     },
     "execution_count": 54,
     "metadata": {},
     "output_type": "execute_result"
    }
   ],
   "source": [
    "df_interface.ic_pt.unique()"
   ]
  }
 ],
 "metadata": {
  "interpreter": {
   "hash": "2bdae6fe4e74c213dbbabb20f594c2125718203d4b4152af825fac47711826f8"
  },
  "kernelspec": {
   "display_name": "Python 3.9.7 ('aws_s3')",
   "language": "python",
   "name": "python3"
  },
  "language_info": {
   "codemirror_mode": {
    "name": "ipython",
    "version": 3
   },
   "file_extension": ".py",
   "mimetype": "text/x-python",
   "name": "python",
   "nbconvert_exporter": "python",
   "pygments_lexer": "ipython3",
   "version": "3.9.7"
  },
  "orig_nbformat": 4
 },
 "nbformat": 4,
 "nbformat_minor": 2
}
