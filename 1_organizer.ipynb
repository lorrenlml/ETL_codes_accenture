{
 "cells": [
  {
   "cell_type": "markdown",
   "metadata": {},
   "source": [
    "**Objetivo:** copiar las queries de argus de forma ordenada a un directorio con las queries organizadas en subdirectorios con el nombre de la interfaz\n",
    "- Las queries se ubican actualmente en un directorio común '/sql_files_only' \n",
    "- El directorio target es '/queries_argus/' siendo el subdirectorio /INTERFACE el que tiene las queries de la interfaz.\n",
    "- El proceso cuenta con una tabla que relaciona la interfaz con los ficheros correspondientes.\n",
    "\n",
    "Aclaraciones:\n",
    "- Solo se organizará por interfaz aquellos ficheros SQL, presentes en los directorios de SQL_Files, que estén relacionados a una interfaz en la planilla de Metadata Mapping Document.\n",
    "- No se creará subdirectorio para aquellas interfaces que no posean ficheros SQL."
   ]
  },
  {
   "cell_type": "markdown",
   "metadata": {},
   "source": [
    "Liberías a importar:\n",
    "- **Pandas:** Manejar la tabla que relaciona la interfaz con los ficheros correspondientes\n",
    "- **os:** Para la creación de ficheros\n",
    "- **shutil:** libería utilizada para copiar los ficheros de manera user friendly"
   ]
  },
  {
   "cell_type": "code",
   "execution_count": 56,
   "metadata": {},
   "outputs": [],
   "source": [
    "import pandas as pd\n",
    "import os\n",
    "import shutil"
   ]
  },
  {
   "cell_type": "code",
   "execution_count": 57,
   "metadata": {},
   "outputs": [],
   "source": [
    "data=pd.read_csv(\"data.csv\",sep=\";\")\n",
    "data_prueba=data.head(4)"
   ]
  },
  {
   "cell_type": "code",
   "execution_count": 58,
   "metadata": {},
   "outputs": [
    {
     "data": {
      "text/html": [
       "<div>\n",
       "<style scoped>\n",
       "    .dataframe tbody tr th:only-of-type {\n",
       "        vertical-align: middle;\n",
       "    }\n",
       "\n",
       "    .dataframe tbody tr th {\n",
       "        vertical-align: top;\n",
       "    }\n",
       "\n",
       "    .dataframe thead th {\n",
       "        text-align: right;\n",
       "    }\n",
       "</style>\n",
       "<table border=\"1\" class=\"dataframe\">\n",
       "  <thead>\n",
       "    <tr style=\"text-align: right;\">\n",
       "      <th></th>\n",
       "      <th>Interface</th>\n",
       "      <th>Subdirectorio</th>\n",
       "      <th>Metadata Files Without Duplicates</th>\n",
       "      <th>Status</th>\n",
       "    </tr>\n",
       "  </thead>\n",
       "  <tbody>\n",
       "    <tr>\n",
       "      <th>0</th>\n",
       "      <td>10002</td>\n",
       "      <td>Sql_Files_Only</td>\n",
       "      <td>DSLDPLA_PT_ddl.sql</td>\n",
       "      <td>OK fichero en carpeta</td>\n",
       "    </tr>\n",
       "    <tr>\n",
       "      <th>1</th>\n",
       "      <td>10002</td>\n",
       "      <td>Sql_Files_Only</td>\n",
       "      <td>DSLDPLA_PT_ins.sql</td>\n",
       "      <td>OK fichero en carpeta</td>\n",
       "    </tr>\n",
       "    <tr>\n",
       "      <th>2</th>\n",
       "      <td>10003</td>\n",
       "      <td>Sql_Files_Only</td>\n",
       "      <td>DSLDTRA_PT_ddl.sql</td>\n",
       "      <td>OK fichero en carpeta</td>\n",
       "    </tr>\n",
       "    <tr>\n",
       "      <th>3</th>\n",
       "      <td>10003</td>\n",
       "      <td>Sql_Files_Only</td>\n",
       "      <td>DSLDTRA_PT_ins.sql</td>\n",
       "      <td>OK fichero en carpeta</td>\n",
       "    </tr>\n",
       "  </tbody>\n",
       "</table>\n",
       "</div>"
      ],
      "text/plain": [
       "  Interface   Subdirectorio Metadata Files Without Duplicates  \\\n",
       "0     10002  Sql_Files_Only                DSLDPLA_PT_ddl.sql   \n",
       "1     10002  Sql_Files_Only                DSLDPLA_PT_ins.sql   \n",
       "2     10003  Sql_Files_Only                DSLDTRA_PT_ddl.sql   \n",
       "3     10003  Sql_Files_Only                DSLDTRA_PT_ins.sql   \n",
       "\n",
       "                  Status  \n",
       "0  OK fichero en carpeta  \n",
       "1  OK fichero en carpeta  \n",
       "2  OK fichero en carpeta  \n",
       "3  OK fichero en carpeta  "
      ]
     },
     "execution_count": 58,
     "metadata": {},
     "output_type": "execute_result"
    }
   ],
   "source": [
    "data_prueba"
   ]
  },
  {
   "cell_type": "code",
   "execution_count": 66,
   "metadata": {},
   "outputs": [],
   "source": [
    "def organizer(data):\n",
    "    path_destino=\"queries_argus/\"+data[\"Interface\"]\n",
    "    try:\n",
    "        os.mkdir(path_destino)\n",
    "        print(\"Se ha creado el subdirectorio:\",path_destino)\n",
    "    except FileExistsError:\n",
    "        print(\"El directorio\",path_destino,\"ya existe. Se continúa con el copiado de ficheros\")\n",
    "    path_origen=data[\"Subdirectorio\"]+\"/\"+data[\"Metadata Files Without Duplicates\"]\n",
    "    shutil.copy(path_origen,path_destino)\n"
   ]
  },
  {
   "cell_type": "code",
   "execution_count": 68,
   "metadata": {},
   "outputs": [
    {
     "name": "stdout",
     "output_type": "stream",
     "text": [
      "Se ha creado el subdirectorio: queries_argus/10002\n",
      "El directorio queries_argus/10002 ya existe. Se continúa con el copiado de ficheros\n",
      "Se ha creado el subdirectorio: queries_argus/10003\n",
      "El directorio queries_argus/10003 ya existe. Se continúa con el copiado de ficheros\n"
     ]
    }
   ],
   "source": [
    "for i in range(len(data_prueba)):\n",
    "    organizer(data_prueba.iloc[i])"
   ]
  },
  {
   "cell_type": "code",
   "execution_count": null,
   "metadata": {},
   "outputs": [],
   "source": []
  }
 ],
 "metadata": {
  "interpreter": {
   "hash": "f701698e69a3ac3680b6fca40974d9c8d699f8bf0a632f9c1aa705b42a9817b0"
  },
  "kernelspec": {
   "display_name": "Python 3.10.2 64-bit",
   "language": "python",
   "name": "python3"
  },
  "language_info": {
   "codemirror_mode": {
    "name": "ipython",
    "version": 3
   },
   "file_extension": ".py",
   "mimetype": "text/x-python",
   "name": "python",
   "nbconvert_exporter": "python",
   "pygments_lexer": "ipython3",
   "version": "3.10.2"
  },
  "orig_nbformat": 4
 },
 "nbformat": 4,
 "nbformat_minor": 2
}
